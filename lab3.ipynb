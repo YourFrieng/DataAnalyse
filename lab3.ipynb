{
  "nbformat": 4,
  "nbformat_minor": 0,
  "metadata": {
    "colab": {
      "provenance": []
    },
    "kernelspec": {
      "name": "python3",
      "display_name": "Python 3"
    },
    "language_info": {
      "name": "python"
    }
  },
  "cells": [
    {
      "cell_type": "code",
      "execution_count": 1,
      "metadata": {
        "id": "8TEaaQeyWj_n"
      },
      "outputs": [],
      "source": [
        "import pandas as pd\n",
        "import csv\n",
        "import numpy as np\n",
        "from sklearn.model_selection import train_test_split\n",
        "from sklearn.decomposition import PCA"
      ]
    },
    {
      "cell_type": "code",
      "source": [
        "data = pd.read_csv('StudentsPerformance.csv', delimiter=',')\n",
        "data = data.drop(columns=['race/ethnicity', 'parental level of education', 'lunch', 'test preparation course'])\n",
        "data.loc[data[\"gender\"] == \"male\", \"gender\"] = 1\n",
        "data.loc[data[\"gender\"] == \"female\", \"gender\"] = 0\n",
        "data.dropna()\n",
        "x=np.array(data[['math score', 'reading score', 'writing score']])\n",
        "y=np.array(data['gender'])\n",
        "pca=PCA(n_components=2)\n",
        "x_2=pca.fit_transform(x)"
      ],
      "metadata": {
        "id": "WTNQDNAjcUGN"
      },
      "execution_count": 2,
      "outputs": []
    },
    {
      "cell_type": "markdown",
      "source": [
        "Векторизуємо датасет"
      ],
      "metadata": {
        "id": "iV-Yl7LhY8Q0"
      }
    },
    {
      "cell_type": "code",
      "source": [
        "all_features = []\n",
        "all_targets = []\n",
        "with open('StudentsPerformance.csv') as f:\n",
        "    for i, line in enumerate(f):\n",
        "        if i == 0:\n",
        "            print(\"HEADER:\", line.strip())\n",
        "            continue  # Skip header\n",
        "        fields = line.strip().split(\",\")\n",
        "        all_features.append([int(0 if v.replace('\"', \"\") == \"female\" else 1) for v in fields[:-1]])\n",
        "        all_targets.append([int(0 if fields[0].replace('\"', \"\")== \"female\" else 1)])\n",
        "        if i == 1:\n",
        "            print(\"EXAMPLE FEATURES:\", all_features[-1])\n",
        "\n",
        "features = np.array(all_features, dtype=\"float32\")\n",
        "targets = np.array(all_targets, dtype=\"uint8\")\n",
        "print(\"features.shape:\", features.shape)\n",
        "print(\"targets.shape:\", targets.shape)"
      ],
      "metadata": {
        "colab": {
          "base_uri": "https://localhost:8080/"
        },
        "id": "Wt5vmQtiYgGd",
        "outputId": "4922100e-1e5f-4b69-d577-c3227f3fcd47"
      },
      "execution_count": 3,
      "outputs": [
        {
          "output_type": "stream",
          "name": "stdout",
          "text": [
            "HEADER: \"gender\",\"race/ethnicity\",\"parental level of education\",\"lunch\",\"test preparation course\",\"math score\",\"reading score\",\"writing score\"\n",
            "EXAMPLE FEATURES: [0, 1, 1, 1, 1, 1, 1]\n",
            "features.shape: (1000, 7)\n",
            "targets.shape: (1000, 1)\n"
          ]
        }
      ]
    },
    {
      "cell_type": "markdown",
      "source": [
        "Підготовка тестового датасету"
      ],
      "metadata": {
        "id": "yKEfAxEOY_wX"
      }
    },
    {
      "cell_type": "code",
      "source": [
        "num_val_samples = int(len(features) * 0.2)\n",
        "train_features = features[:-num_val_samples]\n",
        "train_targets = targets[:-num_val_samples]\n",
        "val_features = features[-num_val_samples:]\n",
        "val_targets = targets[-num_val_samples:]\n",
        "\n",
        "print(\"Number of training samples:\", len(train_features))\n",
        "print(\"Number of validation samples:\", len(val_features))"
      ],
      "metadata": {
        "colab": {
          "base_uri": "https://localhost:8080/"
        },
        "id": "KScwNmkQZG5a",
        "outputId": "e07cc80e-ffbc-450e-a6ca-5b5473b4b113"
      },
      "execution_count": 4,
      "outputs": [
        {
          "output_type": "stream",
          "name": "stdout",
          "text": [
            "Number of training samples: 800\n",
            "Number of validation samples: 200\n"
          ]
        }
      ]
    },
    {
      "cell_type": "code",
      "source": [
        "counts = np.bincount(train_targets[:, 0])\n",
        "print(\n",
        "    \"Number of positive samples in training data: {} ({:.2f}% of total)\".format(\n",
        "        counts[1], 100 * float(counts[1]) / len(train_targets)\n",
        "    )\n",
        ")\n",
        "\n",
        "weight_for_0 = 1.0 / counts[0]\n",
        "weight_for_1 = 1.0 / counts[1]"
      ],
      "metadata": {
        "colab": {
          "base_uri": "https://localhost:8080/"
        },
        "id": "mWdCd5jGZNMM",
        "outputId": "4adb1b1c-2819-4110-e8ca-ef482382b317"
      },
      "execution_count": 5,
      "outputs": [
        {
          "output_type": "stream",
          "name": "stdout",
          "text": [
            "Number of positive samples in training data: 387 (48.38% of total)\n"
          ]
        }
      ]
    },
    {
      "cell_type": "code",
      "source": [
        "mean = np.mean(train_features, axis=0)\n",
        "train_features -= mean\n",
        "val_features -= mean\n",
        "std = np.std(train_features, axis=0)\n",
        "train_features /= std\n",
        "val_features /= std"
      ],
      "metadata": {
        "id": "o_a5Pu8mZQMq",
        "colab": {
          "base_uri": "https://localhost:8080/"
        },
        "outputId": "9ae7af2b-a7a6-4535-83fd-29c395837db5"
      },
      "execution_count": 6,
      "outputs": [
        {
          "output_type": "stream",
          "name": "stderr",
          "text": [
            "<ipython-input-6-c2c1e75ceb8d>:5: RuntimeWarning: invalid value encountered in divide\n",
            "  train_features /= std\n",
            "<ipython-input-6-c2c1e75ceb8d>:6: RuntimeWarning: invalid value encountered in divide\n",
            "  val_features /= std\n"
          ]
        }
      ]
    },
    {
      "cell_type": "code",
      "source": [
        "import keras\n",
        "\n",
        "model = keras.Sequential(\n",
        "    [\n",
        "        keras.Input(shape=train_features.shape[1:]),\n",
        "        keras.layers.Dense(256, activation=\"relu\"),\n",
        "        keras.layers.Dense(256, activation=\"relu\"),\n",
        "        keras.layers.Dropout(0.3),\n",
        "        keras.layers.Dense(256, activation=\"relu\"),\n",
        "        keras.layers.Dropout(0.3),\n",
        "        keras.layers.Dense(1, activation=\"sigmoid\"),\n",
        "    ]\n",
        ")\n",
        "model.summary()"
      ],
      "metadata": {
        "colab": {
          "base_uri": "https://localhost:8080/"
        },
        "id": "XEhBhFruZQUf",
        "outputId": "f284cedc-ed0b-4199-f388-26ed42dc9c55"
      },
      "execution_count": 7,
      "outputs": [
        {
          "output_type": "stream",
          "name": "stdout",
          "text": [
            "Model: \"sequential\"\n",
            "_________________________________________________________________\n",
            " Layer (type)                Output Shape              Param #   \n",
            "=================================================================\n",
            " dense (Dense)               (None, 256)               2048      \n",
            "                                                                 \n",
            " dense_1 (Dense)             (None, 256)               65792     \n",
            "                                                                 \n",
            " dropout (Dropout)           (None, 256)               0         \n",
            "                                                                 \n",
            " dense_2 (Dense)             (None, 256)               65792     \n",
            "                                                                 \n",
            " dropout_1 (Dropout)         (None, 256)               0         \n",
            "                                                                 \n",
            " dense_3 (Dense)             (None, 1)                 257       \n",
            "                                                                 \n",
            "=================================================================\n",
            "Total params: 133889 (523.00 KB)\n",
            "Trainable params: 133889 (523.00 KB)\n",
            "Non-trainable params: 0 (0.00 Byte)\n",
            "_________________________________________________________________\n"
          ]
        }
      ]
    },
    {
      "cell_type": "code",
      "source": [
        "metrics = [\n",
        "    keras.metrics.FalseNegatives(name=\"fn\"),\n",
        "    keras.metrics.FalsePositives(name=\"fp\"),\n",
        "    keras.metrics.TrueNegatives(name=\"tn\"),\n",
        "    keras.metrics.TruePositives(name=\"tp\"),\n",
        "    keras.metrics.Precision(name=\"precision\"),\n",
        "    keras.metrics.Recall(name=\"recall\"),\n",
        "]\n",
        "\n",
        "model.compile(\n",
        "    optimizer=keras.optimizers.Adam(learning_rate=0.0001), loss=\"binary_crossentropy\", metrics=[\"accuracy\"]\n",
        ")\n",
        "\n",
        "callbacks = [keras.callbacks.ModelCheckpoint(\"fraud_model_at_epoch_{epoch}.h5\")]\n",
        "class_weight = {0: weight_for_0, 1: weight_for_1}\n",
        "\n",
        "model.fit(\n",
        "    train_features,\n",
        "    train_targets,\n",
        "    batch_size=2048,\n",
        "    epochs=30,\n",
        "    verbose=2,\n",
        "    callbacks=callbacks,\n",
        "    validation_data=(val_features, val_targets),\n",
        "    class_weight=class_weight,\n",
        ")"
      ],
      "metadata": {
        "colab": {
          "base_uri": "https://localhost:8080/"
        },
        "id": "Gh3jxgAfZQXl",
        "outputId": "9ebe3b01-d1ce-4fa3-b969-cefce1df4907"
      },
      "execution_count": 8,
      "outputs": [
        {
          "output_type": "stream",
          "name": "stdout",
          "text": [
            "Epoch 1/30\n",
            "1/1 - 3s - loss: nan - accuracy: 0.5163 - val_loss: nan - val_accuracy: 0.5250 - 3s/epoch - 3s/step\n",
            "Epoch 2/30\n",
            "1/1 - 0s - loss: nan - accuracy: 0.5163 - val_loss: nan - val_accuracy: 0.5250 - 130ms/epoch - 130ms/step\n",
            "Epoch 3/30\n"
          ]
        },
        {
          "output_type": "stream",
          "name": "stderr",
          "text": [
            "/usr/local/lib/python3.10/dist-packages/keras/src/engine/training.py:3103: UserWarning: You are saving your model as an HDF5 file via `model.save()`. This file format is considered legacy. We recommend using instead the native Keras format, e.g. `model.save('my_model.keras')`.\n",
            "  saving_api.save_model(\n"
          ]
        },
        {
          "output_type": "stream",
          "name": "stdout",
          "text": [
            "1/1 - 0s - loss: nan - accuracy: 0.5163 - val_loss: nan - val_accuracy: 0.5250 - 263ms/epoch - 263ms/step\n",
            "Epoch 4/30\n",
            "1/1 - 0s - loss: nan - accuracy: 0.5163 - val_loss: nan - val_accuracy: 0.5250 - 195ms/epoch - 195ms/step\n",
            "Epoch 5/30\n",
            "1/1 - 0s - loss: nan - accuracy: 0.5163 - val_loss: nan - val_accuracy: 0.5250 - 147ms/epoch - 147ms/step\n",
            "Epoch 6/30\n",
            "1/1 - 0s - loss: nan - accuracy: 0.5163 - val_loss: nan - val_accuracy: 0.5250 - 107ms/epoch - 107ms/step\n",
            "Epoch 7/30\n",
            "1/1 - 0s - loss: nan - accuracy: 0.5163 - val_loss: nan - val_accuracy: 0.5250 - 129ms/epoch - 129ms/step\n",
            "Epoch 8/30\n",
            "1/1 - 0s - loss: nan - accuracy: 0.5163 - val_loss: nan - val_accuracy: 0.5250 - 151ms/epoch - 151ms/step\n",
            "Epoch 9/30\n",
            "1/1 - 0s - loss: nan - accuracy: 0.5163 - val_loss: nan - val_accuracy: 0.5250 - 241ms/epoch - 241ms/step\n",
            "Epoch 10/30\n",
            "1/1 - 0s - loss: nan - accuracy: 0.5163 - val_loss: nan - val_accuracy: 0.5250 - 95ms/epoch - 95ms/step\n",
            "Epoch 11/30\n",
            "1/1 - 0s - loss: nan - accuracy: 0.5163 - val_loss: nan - val_accuracy: 0.5250 - 82ms/epoch - 82ms/step\n",
            "Epoch 12/30\n",
            "1/1 - 0s - loss: nan - accuracy: 0.5163 - val_loss: nan - val_accuracy: 0.5250 - 69ms/epoch - 69ms/step\n",
            "Epoch 13/30\n",
            "1/1 - 0s - loss: nan - accuracy: 0.5163 - val_loss: nan - val_accuracy: 0.5250 - 73ms/epoch - 73ms/step\n",
            "Epoch 14/30\n",
            "1/1 - 0s - loss: nan - accuracy: 0.5163 - val_loss: nan - val_accuracy: 0.5250 - 70ms/epoch - 70ms/step\n",
            "Epoch 15/30\n",
            "1/1 - 0s - loss: nan - accuracy: 0.5163 - val_loss: nan - val_accuracy: 0.5250 - 70ms/epoch - 70ms/step\n",
            "Epoch 16/30\n",
            "1/1 - 0s - loss: nan - accuracy: 0.5163 - val_loss: nan - val_accuracy: 0.5250 - 76ms/epoch - 76ms/step\n",
            "Epoch 17/30\n",
            "1/1 - 0s - loss: nan - accuracy: 0.5163 - val_loss: nan - val_accuracy: 0.5250 - 72ms/epoch - 72ms/step\n",
            "Epoch 18/30\n",
            "1/1 - 0s - loss: nan - accuracy: 0.5163 - val_loss: nan - val_accuracy: 0.5250 - 95ms/epoch - 95ms/step\n",
            "Epoch 19/30\n",
            "1/1 - 0s - loss: nan - accuracy: 0.5163 - val_loss: nan - val_accuracy: 0.5250 - 73ms/epoch - 73ms/step\n",
            "Epoch 20/30\n",
            "1/1 - 0s - loss: nan - accuracy: 0.5163 - val_loss: nan - val_accuracy: 0.5250 - 70ms/epoch - 70ms/step\n",
            "Epoch 21/30\n",
            "1/1 - 0s - loss: nan - accuracy: 0.5163 - val_loss: nan - val_accuracy: 0.5250 - 92ms/epoch - 92ms/step\n",
            "Epoch 22/30\n",
            "1/1 - 0s - loss: nan - accuracy: 0.5163 - val_loss: nan - val_accuracy: 0.5250 - 74ms/epoch - 74ms/step\n",
            "Epoch 23/30\n",
            "1/1 - 0s - loss: nan - accuracy: 0.5163 - val_loss: nan - val_accuracy: 0.5250 - 72ms/epoch - 72ms/step\n",
            "Epoch 24/30\n",
            "1/1 - 0s - loss: nan - accuracy: 0.5163 - val_loss: nan - val_accuracy: 0.5250 - 101ms/epoch - 101ms/step\n",
            "Epoch 25/30\n",
            "1/1 - 0s - loss: nan - accuracy: 0.5163 - val_loss: nan - val_accuracy: 0.5250 - 70ms/epoch - 70ms/step\n",
            "Epoch 26/30\n",
            "1/1 - 0s - loss: nan - accuracy: 0.5163 - val_loss: nan - val_accuracy: 0.5250 - 71ms/epoch - 71ms/step\n",
            "Epoch 27/30\n",
            "1/1 - 0s - loss: nan - accuracy: 0.5163 - val_loss: nan - val_accuracy: 0.5250 - 75ms/epoch - 75ms/step\n",
            "Epoch 28/30\n",
            "1/1 - 0s - loss: nan - accuracy: 0.5163 - val_loss: nan - val_accuracy: 0.5250 - 75ms/epoch - 75ms/step\n",
            "Epoch 29/30\n",
            "1/1 - 0s - loss: nan - accuracy: 0.5163 - val_loss: nan - val_accuracy: 0.5250 - 72ms/epoch - 72ms/step\n",
            "Epoch 30/30\n",
            "1/1 - 0s - loss: nan - accuracy: 0.5163 - val_loss: nan - val_accuracy: 0.5250 - 78ms/epoch - 78ms/step\n"
          ]
        },
        {
          "output_type": "execute_result",
          "data": {
            "text/plain": [
              "<keras.src.callbacks.History at 0x7948c8127d60>"
            ]
          },
          "metadata": {},
          "execution_count": 8
        }
      ]
    },
    {
      "cell_type": "markdown",
      "source": [
        "2. Згорткові нейронні мережі"
      ],
      "metadata": {
        "id": "uFiTD9ZwdGoO"
      }
    },
    {
      "cell_type": "code",
      "source": [
        "zip_ref = zipfile.ZipFile('/content/TRAIN.zip', 'r') #Opens the zip file in read mode\n",
        "zip_ref.extractall('/content/sample_data') #Extracts the files into the /tmp folder\n",
        "zip_ref.close()"
      ],
      "metadata": {
        "id": "W0d8Nmk2hpfr"
      },
      "execution_count": 10,
      "outputs": []
    },
    {
      "cell_type": "code",
      "source": [
        "import keras\n",
        "from keras import layers\n",
        "import zipfile\n",
        "import os\n",
        "import tensorflow as tf\n",
        "import matplotlib.pyplot as plt\n",
        "\n",
        "\n",
        "\n",
        "num_skipped = 0\n",
        "for folder_name in (\"EOSINOPHIL\", \"LYMPHOCYTE\", \"MONOCYTE\", \"NEUTROPHIL\"):\n",
        "    folder_path = os.path.join(\"/content/sample_data/TRAIN\", folder_name)\n",
        "    for fname in os.listdir(folder_path):\n",
        "        fpath = os.path.join(folder_path, fname)\n",
        "        try:\n",
        "            fobj = open(fpath, \"rb\")\n",
        "            is_jfif = tf.compat.as_bytes(\"JFIF\") in fobj.peek(10)\n",
        "        finally:\n",
        "            fobj.close()\n",
        "\n",
        "        if not is_jfif:\n",
        "            num_skipped += 1\n",
        "            # Delete corrupted image\n",
        "            os.remove(fpath)\n",
        "\n",
        "print(\"Deleted %d images\" % num_skipped)"
      ],
      "metadata": {
        "colab": {
          "base_uri": "https://localhost:8080/"
        },
        "id": "cPdgOGefdKX-",
        "outputId": "d1672fc3-d719-4f6a-ca01-3ef6596c9dfd"
      },
      "execution_count": 11,
      "outputs": [
        {
          "output_type": "stream",
          "name": "stdout",
          "text": [
            "Deleted 0 images\n"
          ]
        }
      ]
    },
    {
      "cell_type": "code",
      "source": [
        "image_size = (180, 180)\n",
        "batch_size = 128\n",
        "\n",
        "train_ds, val_ds = keras.utils.image_dataset_from_directory(\n",
        "    \"/content/sample_data/TRAIN\",\n",
        "    validation_split=0.2,\n",
        "    subset=\"both\",\n",
        "    seed=1337,\n",
        "    image_size=image_size,\n",
        "    batch_size=batch_size,\n",
        ")"
      ],
      "metadata": {
        "id": "17a0ddd_pDhO",
        "colab": {
          "base_uri": "https://localhost:8080/"
        },
        "outputId": "bd968901-f0f8-49da-c16f-f0733134b3f6"
      },
      "execution_count": 12,
      "outputs": [
        {
          "output_type": "stream",
          "name": "stdout",
          "text": [
            "Found 9957 files belonging to 4 classes.\n",
            "Using 7966 files for training.\n",
            "Using 1991 files for validation.\n"
          ]
        }
      ]
    },
    {
      "cell_type": "code",
      "source": [
        "\n",
        "data_augmentation = keras.Sequential([\n",
        "    keras.layers.RandomFlip(\"horizontal\", input_shape=(180, 180, 3)),\n",
        "    keras.layers.RandomRotation(0.1),\n",
        "    keras.layers.RandomZoom(0.1),\n",
        "  ])"
      ],
      "metadata": {
        "id": "syhrvK6brLGL"
      },
      "execution_count": 13,
      "outputs": []
    },
    {
      "cell_type": "code",
      "source": [
        "AUTOTUNE = tf.data.AUTOTUNE\n",
        "\n",
        "train = train_ds.cache().shuffle(1000).prefetch(buffer_size=AUTOTUNE)\n",
        "val_ds = val_ds.cache().prefetch(buffer_size=AUTOTUNE)"
      ],
      "metadata": {
        "id": "-hVUBiwQrN75"
      },
      "execution_count": 14,
      "outputs": []
    },
    {
      "cell_type": "code",
      "source": [
        "model_2 = keras.Sequential([\n",
        "  data_augmentation,\n",
        "  keras.layers.Rescaling(1./255),\n",
        "  keras.layers.Conv2D(64, 4, strides=2, padding='same', activation='relu'),\n",
        "  keras.layers.MaxPooling2D(pool_size=(2, 2), padding='same'),\n",
        "  keras.layers.BatchNormalization(),\n",
        "  keras.layers.Conv2D(128, 4, strides=2, padding='same', activation='tanh'),\n",
        "  keras.layers.MaxPooling2D(pool_size=(2, 2), padding='same'),\n",
        "  keras.layers.BatchNormalization(),\n",
        "  keras.layers.Dropout(0.4),\n",
        "  keras.layers.Conv2D(256, 4, strides=2, padding='same', activation='tanh'),\n",
        "  keras.layers.MaxPooling2D(pool_size=(2, 2), padding='same'),\n",
        "  keras.layers.BatchNormalization(),\n",
        "  keras.layers.Flatten(),\n",
        "  keras.layers.Dense(256, activation='softmax'),\n",
        "  keras.layers.Dense(5, name=\"outputs\")\n",
        "])"
      ],
      "metadata": {
        "id": "4BT4zHqXrQs4"
      },
      "execution_count": 15,
      "outputs": []
    },
    {
      "cell_type": "code",
      "source": [
        "\n",
        "model_2.summary"
      ],
      "metadata": {
        "id": "s7EcO7-4rQvX",
        "colab": {
          "base_uri": "https://localhost:8080/"
        },
        "outputId": "ca9951d3-7b94-4fd1-9d22-51db2647d058"
      },
      "execution_count": 16,
      "outputs": [
        {
          "output_type": "execute_result",
          "data": {
            "text/plain": [
              "<bound method Model.summary of <keras.src.engine.sequential.Sequential object at 0x7948c8990c40>>"
            ]
          },
          "metadata": {},
          "execution_count": 16
        }
      ]
    },
    {
      "cell_type": "code",
      "source": [
        "\n",
        "model_2.compile(optimizer=keras.optimizers.RMSprop(learning_rate=0.0002), loss=keras.losses.SparseCategoricalCrossentropy(from_logits=True), metrics=[\"accuracy\"])\n",
        "model_2.fit(train, validation_data = val_ds, epochs=10)"
      ],
      "metadata": {
        "id": "EWbhp9VdrUxn",
        "colab": {
          "base_uri": "https://localhost:8080/"
        },
        "outputId": "6cedf37f-3f9f-45d5-fc6d-e364dbb86d21"
      },
      "execution_count": 17,
      "outputs": [
        {
          "output_type": "stream",
          "name": "stdout",
          "text": [
            "Epoch 1/10\n",
            "63/63 [==============================] - 321s 5s/step - loss: 1.5766 - accuracy: 0.2469 - val_loss: 1.6029 - val_accuracy: 0.2506\n",
            "Epoch 2/10\n",
            "63/63 [==============================] - 298s 5s/step - loss: 1.5658 - accuracy: 0.2503 - val_loss: 1.5981 - val_accuracy: 0.2612\n",
            "Epoch 3/10\n",
            "63/63 [==============================] - 280s 4s/step - loss: 1.5468 - accuracy: 0.2801 - val_loss: 1.5884 - val_accuracy: 0.2682\n",
            "Epoch 4/10\n",
            "63/63 [==============================] - 283s 5s/step - loss: 1.5361 - accuracy: 0.3131 - val_loss: 1.5716 - val_accuracy: 0.3154\n",
            "Epoch 5/10\n",
            "63/63 [==============================] - 286s 5s/step - loss: 1.5230 - accuracy: 0.3791 - val_loss: 1.5496 - val_accuracy: 0.3069\n",
            "Epoch 6/10\n",
            "63/63 [==============================] - 278s 4s/step - loss: 1.5078 - accuracy: 0.4215 - val_loss: 1.5411 - val_accuracy: 0.2496\n",
            "Epoch 7/10\n",
            "63/63 [==============================] - 284s 5s/step - loss: 1.4957 - accuracy: 0.4326 - val_loss: 1.5391 - val_accuracy: 0.2506\n",
            "Epoch 8/10\n",
            "63/63 [==============================] - 280s 4s/step - loss: 1.4837 - accuracy: 0.4361 - val_loss: 1.5381 - val_accuracy: 0.2481\n",
            "Epoch 9/10\n",
            "63/63 [==============================] - 284s 5s/step - loss: 1.4724 - accuracy: 0.4355 - val_loss: 1.4978 - val_accuracy: 0.3285\n",
            "Epoch 10/10\n",
            "63/63 [==============================] - 282s 4s/step - loss: 1.4597 - accuracy: 0.4430 - val_loss: 1.5329 - val_accuracy: 0.2481\n"
          ]
        },
        {
          "output_type": "execute_result",
          "data": {
            "text/plain": [
              "<keras.src.callbacks.History at 0x7948c87bd2d0>"
            ]
          },
          "metadata": {},
          "execution_count": 17
        }
      ]
    },
    {
      "cell_type": "markdown",
      "source": [
        "Рекурентні нейромережі"
      ],
      "metadata": {
        "id": "bElwsIL1sins"
      }
    },
    {
      "cell_type": "code",
      "source": [
        "import numpy as np\n",
        "import keras\n",
        "from keras import layers\n",
        "\n",
        "max_features = 20000  # Only consider the top 20k words\n",
        "maxlen = 200  # Only consider the first 200 words of each movie review"
      ],
      "metadata": {
        "id": "XyucXPWnrU0c"
      },
      "execution_count": 34,
      "outputs": []
    },
    {
      "cell_type": "code",
      "source": [
        "# Input for variable-length sequences of integers\n",
        "inputs = keras.Input(shape=(None,), dtype=\"int32\")\n",
        "# Embed each integer in a 128-dimensional vector\n",
        "x = layers.Embedding(max_features, 128)(inputs)\n",
        "# Add 2 bidirectional LSTMs\n",
        "x = layers.Bidirectional(layers.LSTM(64, return_sequences=True))(x)\n",
        "x = layers.Bidirectional(layers.LSTM(64))(x)\n",
        "# Add a classifier\n",
        "outputs = layers.Dense(1, activation=\"sigmoid\")(x)\n",
        "model = keras.Model(inputs, outputs)\n",
        "model.summary()"
      ],
      "metadata": {
        "id": "URJjcgLtWJ9p",
        "colab": {
          "base_uri": "https://localhost:8080/"
        },
        "outputId": "449b99e3-a527-4670-ad3b-249ce623c7bb"
      },
      "execution_count": 35,
      "outputs": [
        {
          "output_type": "stream",
          "name": "stdout",
          "text": [
            "Model: \"model_1\"\n",
            "_________________________________________________________________\n",
            " Layer (type)                Output Shape              Param #   \n",
            "=================================================================\n",
            " input_3 (InputLayer)        [(None, None)]            0         \n",
            "                                                                 \n",
            " embedding_2 (Embedding)     (None, None, 128)         2560000   \n",
            "                                                                 \n",
            " bidirectional_2 (Bidirecti  (None, None, 128)         98816     \n",
            " onal)                                                           \n",
            "                                                                 \n",
            " bidirectional_3 (Bidirecti  (None, 128)               98816     \n",
            " onal)                                                           \n",
            "                                                                 \n",
            " dense_7 (Dense)             (None, 1)                 129       \n",
            "                                                                 \n",
            "=================================================================\n",
            "Total params: 2757761 (10.52 MB)\n",
            "Trainable params: 2757761 (10.52 MB)\n",
            "Non-trainable params: 0 (0.00 Byte)\n",
            "_________________________________________________________________\n"
          ]
        }
      ]
    },
    {
      "cell_type": "code",
      "source": [
        "df1 = pd.read_csv('test.csv')\n",
        "df1"
      ],
      "metadata": {
        "id": "1ZGl_Y_zYOfx",
        "colab": {
          "base_uri": "https://localhost:8080/",
          "height": 424
        },
        "outputId": "d4a6ba4b-3e9a-4c3c-e7fd-695fad585063"
      },
      "execution_count": 36,
      "outputs": [
        {
          "output_type": "execute_result",
          "data": {
            "text/plain": [
              "                                                   text  label\n",
              "0     im feeling rather rotten so im not very ambiti...      0\n",
              "1             im updating my blog because i feel shitty      0\n",
              "2     i never make her separate from me because i do...      0\n",
              "3     i left with my bouquet of red and yellow tulip...      1\n",
              "4       i was feeling a little vain when i did this one      0\n",
              "...                                                 ...    ...\n",
              "1995  i just keep feeling like someone is being unki...      3\n",
              "1996  im feeling a little cranky negative after this...      3\n",
              "1997  i feel that i am useful to my people and that ...      1\n",
              "1998  im feeling more comfortable with derby i feel ...      1\n",
              "1999  i feel all weird when i have to meet w people ...      4\n",
              "\n",
              "[2000 rows x 2 columns]"
            ],
            "text/html": [
              "\n",
              "  <div id=\"df-d92ade4d-9641-49d0-bea8-1f68e35710c0\" class=\"colab-df-container\">\n",
              "    <div>\n",
              "<style scoped>\n",
              "    .dataframe tbody tr th:only-of-type {\n",
              "        vertical-align: middle;\n",
              "    }\n",
              "\n",
              "    .dataframe tbody tr th {\n",
              "        vertical-align: top;\n",
              "    }\n",
              "\n",
              "    .dataframe thead th {\n",
              "        text-align: right;\n",
              "    }\n",
              "</style>\n",
              "<table border=\"1\" class=\"dataframe\">\n",
              "  <thead>\n",
              "    <tr style=\"text-align: right;\">\n",
              "      <th></th>\n",
              "      <th>text</th>\n",
              "      <th>label</th>\n",
              "    </tr>\n",
              "  </thead>\n",
              "  <tbody>\n",
              "    <tr>\n",
              "      <th>0</th>\n",
              "      <td>im feeling rather rotten so im not very ambiti...</td>\n",
              "      <td>0</td>\n",
              "    </tr>\n",
              "    <tr>\n",
              "      <th>1</th>\n",
              "      <td>im updating my blog because i feel shitty</td>\n",
              "      <td>0</td>\n",
              "    </tr>\n",
              "    <tr>\n",
              "      <th>2</th>\n",
              "      <td>i never make her separate from me because i do...</td>\n",
              "      <td>0</td>\n",
              "    </tr>\n",
              "    <tr>\n",
              "      <th>3</th>\n",
              "      <td>i left with my bouquet of red and yellow tulip...</td>\n",
              "      <td>1</td>\n",
              "    </tr>\n",
              "    <tr>\n",
              "      <th>4</th>\n",
              "      <td>i was feeling a little vain when i did this one</td>\n",
              "      <td>0</td>\n",
              "    </tr>\n",
              "    <tr>\n",
              "      <th>...</th>\n",
              "      <td>...</td>\n",
              "      <td>...</td>\n",
              "    </tr>\n",
              "    <tr>\n",
              "      <th>1995</th>\n",
              "      <td>i just keep feeling like someone is being unki...</td>\n",
              "      <td>3</td>\n",
              "    </tr>\n",
              "    <tr>\n",
              "      <th>1996</th>\n",
              "      <td>im feeling a little cranky negative after this...</td>\n",
              "      <td>3</td>\n",
              "    </tr>\n",
              "    <tr>\n",
              "      <th>1997</th>\n",
              "      <td>i feel that i am useful to my people and that ...</td>\n",
              "      <td>1</td>\n",
              "    </tr>\n",
              "    <tr>\n",
              "      <th>1998</th>\n",
              "      <td>im feeling more comfortable with derby i feel ...</td>\n",
              "      <td>1</td>\n",
              "    </tr>\n",
              "    <tr>\n",
              "      <th>1999</th>\n",
              "      <td>i feel all weird when i have to meet w people ...</td>\n",
              "      <td>4</td>\n",
              "    </tr>\n",
              "  </tbody>\n",
              "</table>\n",
              "<p>2000 rows × 2 columns</p>\n",
              "</div>\n",
              "    <div class=\"colab-df-buttons\">\n",
              "\n",
              "  <div class=\"colab-df-container\">\n",
              "    <button class=\"colab-df-convert\" onclick=\"convertToInteractive('df-d92ade4d-9641-49d0-bea8-1f68e35710c0')\"\n",
              "            title=\"Convert this dataframe to an interactive table.\"\n",
              "            style=\"display:none;\">\n",
              "\n",
              "  <svg xmlns=\"http://www.w3.org/2000/svg\" height=\"24px\" viewBox=\"0 -960 960 960\">\n",
              "    <path d=\"M120-120v-720h720v720H120Zm60-500h600v-160H180v160Zm220 220h160v-160H400v160Zm0 220h160v-160H400v160ZM180-400h160v-160H180v160Zm440 0h160v-160H620v160ZM180-180h160v-160H180v160Zm440 0h160v-160H620v160Z\"/>\n",
              "  </svg>\n",
              "    </button>\n",
              "\n",
              "  <style>\n",
              "    .colab-df-container {\n",
              "      display:flex;\n",
              "      gap: 12px;\n",
              "    }\n",
              "\n",
              "    .colab-df-convert {\n",
              "      background-color: #E8F0FE;\n",
              "      border: none;\n",
              "      border-radius: 50%;\n",
              "      cursor: pointer;\n",
              "      display: none;\n",
              "      fill: #1967D2;\n",
              "      height: 32px;\n",
              "      padding: 0 0 0 0;\n",
              "      width: 32px;\n",
              "    }\n",
              "\n",
              "    .colab-df-convert:hover {\n",
              "      background-color: #E2EBFA;\n",
              "      box-shadow: 0px 1px 2px rgba(60, 64, 67, 0.3), 0px 1px 3px 1px rgba(60, 64, 67, 0.15);\n",
              "      fill: #174EA6;\n",
              "    }\n",
              "\n",
              "    .colab-df-buttons div {\n",
              "      margin-bottom: 4px;\n",
              "    }\n",
              "\n",
              "    [theme=dark] .colab-df-convert {\n",
              "      background-color: #3B4455;\n",
              "      fill: #D2E3FC;\n",
              "    }\n",
              "\n",
              "    [theme=dark] .colab-df-convert:hover {\n",
              "      background-color: #434B5C;\n",
              "      box-shadow: 0px 1px 3px 1px rgba(0, 0, 0, 0.15);\n",
              "      filter: drop-shadow(0px 1px 2px rgba(0, 0, 0, 0.3));\n",
              "      fill: #FFFFFF;\n",
              "    }\n",
              "  </style>\n",
              "\n",
              "    <script>\n",
              "      const buttonEl =\n",
              "        document.querySelector('#df-d92ade4d-9641-49d0-bea8-1f68e35710c0 button.colab-df-convert');\n",
              "      buttonEl.style.display =\n",
              "        google.colab.kernel.accessAllowed ? 'block' : 'none';\n",
              "\n",
              "      async function convertToInteractive(key) {\n",
              "        const element = document.querySelector('#df-d92ade4d-9641-49d0-bea8-1f68e35710c0');\n",
              "        const dataTable =\n",
              "          await google.colab.kernel.invokeFunction('convertToInteractive',\n",
              "                                                    [key], {});\n",
              "        if (!dataTable) return;\n",
              "\n",
              "        const docLinkHtml = 'Like what you see? Visit the ' +\n",
              "          '<a target=\"_blank\" href=https://colab.research.google.com/notebooks/data_table.ipynb>data table notebook</a>'\n",
              "          + ' to learn more about interactive tables.';\n",
              "        element.innerHTML = '';\n",
              "        dataTable['output_type'] = 'display_data';\n",
              "        await google.colab.output.renderOutput(dataTable, element);\n",
              "        const docLink = document.createElement('div');\n",
              "        docLink.innerHTML = docLinkHtml;\n",
              "        element.appendChild(docLink);\n",
              "      }\n",
              "    </script>\n",
              "  </div>\n",
              "\n",
              "\n",
              "<div id=\"df-ce7f2ae3-0488-49e1-b1af-962d44a30d1f\">\n",
              "  <button class=\"colab-df-quickchart\" onclick=\"quickchart('df-ce7f2ae3-0488-49e1-b1af-962d44a30d1f')\"\n",
              "            title=\"Suggest charts\"\n",
              "            style=\"display:none;\">\n",
              "\n",
              "<svg xmlns=\"http://www.w3.org/2000/svg\" height=\"24px\"viewBox=\"0 0 24 24\"\n",
              "     width=\"24px\">\n",
              "    <g>\n",
              "        <path d=\"M19 3H5c-1.1 0-2 .9-2 2v14c0 1.1.9 2 2 2h14c1.1 0 2-.9 2-2V5c0-1.1-.9-2-2-2zM9 17H7v-7h2v7zm4 0h-2V7h2v10zm4 0h-2v-4h2v4z\"/>\n",
              "    </g>\n",
              "</svg>\n",
              "  </button>\n",
              "\n",
              "<style>\n",
              "  .colab-df-quickchart {\n",
              "      --bg-color: #E8F0FE;\n",
              "      --fill-color: #1967D2;\n",
              "      --hover-bg-color: #E2EBFA;\n",
              "      --hover-fill-color: #174EA6;\n",
              "      --disabled-fill-color: #AAA;\n",
              "      --disabled-bg-color: #DDD;\n",
              "  }\n",
              "\n",
              "  [theme=dark] .colab-df-quickchart {\n",
              "      --bg-color: #3B4455;\n",
              "      --fill-color: #D2E3FC;\n",
              "      --hover-bg-color: #434B5C;\n",
              "      --hover-fill-color: #FFFFFF;\n",
              "      --disabled-bg-color: #3B4455;\n",
              "      --disabled-fill-color: #666;\n",
              "  }\n",
              "\n",
              "  .colab-df-quickchart {\n",
              "    background-color: var(--bg-color);\n",
              "    border: none;\n",
              "    border-radius: 50%;\n",
              "    cursor: pointer;\n",
              "    display: none;\n",
              "    fill: var(--fill-color);\n",
              "    height: 32px;\n",
              "    padding: 0;\n",
              "    width: 32px;\n",
              "  }\n",
              "\n",
              "  .colab-df-quickchart:hover {\n",
              "    background-color: var(--hover-bg-color);\n",
              "    box-shadow: 0 1px 2px rgba(60, 64, 67, 0.3), 0 1px 3px 1px rgba(60, 64, 67, 0.15);\n",
              "    fill: var(--button-hover-fill-color);\n",
              "  }\n",
              "\n",
              "  .colab-df-quickchart-complete:disabled,\n",
              "  .colab-df-quickchart-complete:disabled:hover {\n",
              "    background-color: var(--disabled-bg-color);\n",
              "    fill: var(--disabled-fill-color);\n",
              "    box-shadow: none;\n",
              "  }\n",
              "\n",
              "  .colab-df-spinner {\n",
              "    border: 2px solid var(--fill-color);\n",
              "    border-color: transparent;\n",
              "    border-bottom-color: var(--fill-color);\n",
              "    animation:\n",
              "      spin 1s steps(1) infinite;\n",
              "  }\n",
              "\n",
              "  @keyframes spin {\n",
              "    0% {\n",
              "      border-color: transparent;\n",
              "      border-bottom-color: var(--fill-color);\n",
              "      border-left-color: var(--fill-color);\n",
              "    }\n",
              "    20% {\n",
              "      border-color: transparent;\n",
              "      border-left-color: var(--fill-color);\n",
              "      border-top-color: var(--fill-color);\n",
              "    }\n",
              "    30% {\n",
              "      border-color: transparent;\n",
              "      border-left-color: var(--fill-color);\n",
              "      border-top-color: var(--fill-color);\n",
              "      border-right-color: var(--fill-color);\n",
              "    }\n",
              "    40% {\n",
              "      border-color: transparent;\n",
              "      border-right-color: var(--fill-color);\n",
              "      border-top-color: var(--fill-color);\n",
              "    }\n",
              "    60% {\n",
              "      border-color: transparent;\n",
              "      border-right-color: var(--fill-color);\n",
              "    }\n",
              "    80% {\n",
              "      border-color: transparent;\n",
              "      border-right-color: var(--fill-color);\n",
              "      border-bottom-color: var(--fill-color);\n",
              "    }\n",
              "    90% {\n",
              "      border-color: transparent;\n",
              "      border-bottom-color: var(--fill-color);\n",
              "    }\n",
              "  }\n",
              "</style>\n",
              "\n",
              "  <script>\n",
              "    async function quickchart(key) {\n",
              "      const quickchartButtonEl =\n",
              "        document.querySelector('#' + key + ' button');\n",
              "      quickchartButtonEl.disabled = true;  // To prevent multiple clicks.\n",
              "      quickchartButtonEl.classList.add('colab-df-spinner');\n",
              "      try {\n",
              "        const charts = await google.colab.kernel.invokeFunction(\n",
              "            'suggestCharts', [key], {});\n",
              "      } catch (error) {\n",
              "        console.error('Error during call to suggestCharts:', error);\n",
              "      }\n",
              "      quickchartButtonEl.classList.remove('colab-df-spinner');\n",
              "      quickchartButtonEl.classList.add('colab-df-quickchart-complete');\n",
              "    }\n",
              "    (() => {\n",
              "      let quickchartButtonEl =\n",
              "        document.querySelector('#df-ce7f2ae3-0488-49e1-b1af-962d44a30d1f button');\n",
              "      quickchartButtonEl.style.display =\n",
              "        google.colab.kernel.accessAllowed ? 'block' : 'none';\n",
              "    })();\n",
              "  </script>\n",
              "</div>\n",
              "    </div>\n",
              "  </div>\n"
            ]
          },
          "metadata": {},
          "execution_count": 36
        }
      ]
    },
    {
      "cell_type": "code",
      "source": [
        "df1=df1[0:5000]\n",
        "from collections import Counter\n",
        "Counter( df1['label'])\n"
      ],
      "metadata": {
        "id": "bQGyfWWxX1l5",
        "colab": {
          "base_uri": "https://localhost:8080/"
        },
        "outputId": "7d8e5f84-2342-4636-ed0e-e34ff02eb69c"
      },
      "execution_count": 37,
      "outputs": [
        {
          "output_type": "execute_result",
          "data": {
            "text/plain": [
              "Counter({0: 581, 1: 695, 4: 224, 3: 275, 2: 159, 5: 66})"
            ]
          },
          "metadata": {},
          "execution_count": 37
        }
      ]
    },
    {
      "cell_type": "code",
      "source": [
        "X_train, X_test, y_train, y_test = train_test_split(df1['text'], df1['label'], test_size=0.20)"
      ],
      "metadata": {
        "id": "L3ev48_AX1o7"
      },
      "execution_count": 38,
      "outputs": []
    },
    {
      "cell_type": "code",
      "source": [
        "y_train = np.asarray(y_train).astype(np.float32)\n",
        "y_test = np.asarray(y_test).astype(np.float32)"
      ],
      "metadata": {
        "id": "TyZSTVahfgnW"
      },
      "execution_count": 39,
      "outputs": []
    },
    {
      "cell_type": "code",
      "source": [
        "from tensorflow.keras.preprocessing.text import Tokenizer\n",
        "vocab_size = 5000\n",
        "oov_token = \"\"\n",
        "tokenizer = Tokenizer(num_words = vocab_size, oov_token=oov_token)\n",
        "tokenizer.fit_on_texts(X_train)\n",
        "\n"
      ],
      "metadata": {
        "id": "pszRi-BkvXPV"
      },
      "execution_count": 40,
      "outputs": []
    },
    {
      "cell_type": "code",
      "source": [
        "\n",
        "x_train_sequences = tokenizer.texts_to_sequences(X_train)\n",
        "x_test_sequences = tokenizer.texts_to_sequences(X_test)"
      ],
      "metadata": {
        "id": "Vpb3U8B1vXRx"
      },
      "execution_count": 41,
      "outputs": []
    },
    {
      "cell_type": "code",
      "source": [
        "max_length = 100\n",
        "padding_type = \"post\"\n",
        "trunction_type=\"post\"\n",
        "x_train_padded = keras.utils.pad_sequences(x_train_sequences,maxlen=max_length, padding=padding_type,\n",
        "                       truncating=trunction_type)\n",
        "x_test_padded = keras.utils.pad_sequences(x_test_sequences,maxlen=max_length,\n",
        "                               padding=padding_type, truncating=trunction_type)\n",
        "\n",
        "word_index = tokenizer.word_index\n",
        "total_words = len(tokenizer.word_index) + 1"
      ],
      "metadata": {
        "id": "EHpDGeGEvXUj"
      },
      "execution_count": 42,
      "outputs": []
    },
    {
      "cell_type": "code",
      "source": [
        "EMBED_DIM = 32\n",
        "LSTM_OUT = 64\n",
        "from tensorflow.keras.models import Sequential\n",
        "from tensorflow.keras.layers import Embedding\n",
        "from tensorflow.keras.layers import LSTM\n",
        "from tensorflow.keras.layers import Dense\n",
        "model = Sequential()\n",
        "model.add(Embedding(total_words, EMBED_DIM, input_length = max_length))\n",
        "model.add(LSTM(LSTM_OUT))\n",
        "model.add(Dense(1, activation='selu'))\n"
      ],
      "metadata": {
        "id": "Mzd_hAMrvXXN"
      },
      "execution_count": 43,
      "outputs": []
    },
    {
      "cell_type": "code",
      "source": [
        "model.compile(optimizer='adam',\n",
        "                loss = tf.keras.losses.binary_crossentropy,\n",
        "                metrics=['accuracy'])\n",
        "\n",
        "model.fit(x_train_padded, y_train, epochs=20, validation_data=(x_test_padded, y_test))"
      ],
      "metadata": {
        "id": "Vxy3f-cuvXZb",
        "colab": {
          "base_uri": "https://localhost:8080/"
        },
        "outputId": "ea001125-1ef3-4a10-b6dc-14615a7edab7"
      },
      "execution_count": 44,
      "outputs": [
        {
          "output_type": "stream",
          "name": "stdout",
          "text": [
            "Epoch 1/20\n",
            "50/50 [==============================] - 7s 102ms/step - loss: -5.0775 - accuracy: 0.3288 - val_loss: -7.2434 - val_accuracy: 0.3750\n",
            "Epoch 2/20\n",
            "50/50 [==============================] - 6s 114ms/step - loss: -8.3299 - accuracy: 0.3406 - val_loss: -7.2434 - val_accuracy: 0.3750\n",
            "Epoch 3/20\n",
            "50/50 [==============================] - 2s 49ms/step - loss: -8.3299 - accuracy: 0.3406 - val_loss: -7.2434 - val_accuracy: 0.3750\n",
            "Epoch 4/20\n",
            "50/50 [==============================] - 2s 46ms/step - loss: -8.3299 - accuracy: 0.3406 - val_loss: -7.2434 - val_accuracy: 0.3750\n",
            "Epoch 5/20\n",
            "50/50 [==============================] - 2s 46ms/step - loss: -8.3299 - accuracy: 0.3406 - val_loss: -7.2434 - val_accuracy: 0.3750\n",
            "Epoch 6/20\n",
            "50/50 [==============================] - 2s 46ms/step - loss: -8.3299 - accuracy: 0.3406 - val_loss: -7.2434 - val_accuracy: 0.3750\n",
            "Epoch 7/20\n",
            "50/50 [==============================] - 4s 77ms/step - loss: -8.3299 - accuracy: 0.3406 - val_loss: -7.2434 - val_accuracy: 0.3750\n",
            "Epoch 8/20\n",
            "50/50 [==============================] - 3s 50ms/step - loss: -8.3299 - accuracy: 0.3406 - val_loss: -7.2434 - val_accuracy: 0.3750\n",
            "Epoch 9/20\n",
            "50/50 [==============================] - 2s 48ms/step - loss: -8.3299 - accuracy: 0.3406 - val_loss: -7.2434 - val_accuracy: 0.3750\n",
            "Epoch 10/20\n",
            "50/50 [==============================] - 2s 46ms/step - loss: -8.3299 - accuracy: 0.3406 - val_loss: -7.2434 - val_accuracy: 0.3750\n",
            "Epoch 11/20\n",
            "50/50 [==============================] - 2s 48ms/step - loss: -8.3299 - accuracy: 0.3406 - val_loss: -7.2434 - val_accuracy: 0.3750\n",
            "Epoch 12/20\n",
            "50/50 [==============================] - 4s 72ms/step - loss: -8.3299 - accuracy: 0.3406 - val_loss: -7.2434 - val_accuracy: 0.3750\n",
            "Epoch 13/20\n",
            "50/50 [==============================] - 3s 56ms/step - loss: -8.3299 - accuracy: 0.3406 - val_loss: -7.2434 - val_accuracy: 0.3750\n",
            "Epoch 14/20\n",
            "50/50 [==============================] - 2s 49ms/step - loss: -8.3299 - accuracy: 0.3406 - val_loss: -7.2434 - val_accuracy: 0.3750\n",
            "Epoch 15/20\n",
            "50/50 [==============================] - 2s 48ms/step - loss: -8.3299 - accuracy: 0.3406 - val_loss: -7.2434 - val_accuracy: 0.3750\n",
            "Epoch 16/20\n",
            "50/50 [==============================] - 2s 46ms/step - loss: -8.3299 - accuracy: 0.3406 - val_loss: -7.2434 - val_accuracy: 0.3750\n",
            "Epoch 17/20\n",
            "50/50 [==============================] - 3s 63ms/step - loss: -8.3299 - accuracy: 0.3406 - val_loss: -7.2434 - val_accuracy: 0.3750\n",
            "Epoch 18/20\n",
            "50/50 [==============================] - 3s 64ms/step - loss: -8.3299 - accuracy: 0.3406 - val_loss: -7.2434 - val_accuracy: 0.3750\n",
            "Epoch 19/20\n",
            "50/50 [==============================] - 2s 48ms/step - loss: -8.3299 - accuracy: 0.3406 - val_loss: -7.2434 - val_accuracy: 0.3750\n",
            "Epoch 20/20\n",
            "50/50 [==============================] - 2s 45ms/step - loss: -8.3299 - accuracy: 0.3406 - val_loss: -7.2434 - val_accuracy: 0.3750\n"
          ]
        },
        {
          "output_type": "execute_result",
          "data": {
            "text/plain": [
              "<keras.src.callbacks.History at 0x7948bbb3d780>"
            ]
          },
          "metadata": {},
          "execution_count": 44
        }
      ]
    }
  ]
}